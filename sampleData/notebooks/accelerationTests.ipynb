{
 "cells": [
  {
   "cell_type": "code",
   "execution_count": null,
   "metadata": {},
   "outputs": [],
   "source": [
    "import   os\n",
    "import   sys\n",
    "sys.path.insert(0, os.path.abspath('.'))\n",
    "from     ismrmrdUtils   import   rawMRutils\n",
    "import   numpy          as       np"
   ]
  },
  {
   "cell_type": "markdown",
   "metadata": {},
   "source": [
    "## First - read in (fully sampled) calibration data from array coil"
   ]
  },
  {
   "cell_type": "code",
   "execution_count": null,
   "metadata": {},
   "outputs": [],
   "source": [
    "# Put data reads from disk in their own cells as these don't need to be repeated\n",
    "calDataArrayHeader, calDataArray = rawMRutils.returnHeaderAndData('./ScanArchive_20190529_090502374_converted.h5')"
   ]
  },
  {
   "cell_type": "code",
   "execution_count": null,
   "metadata": {},
   "outputs": [],
   "source": [
    "calDataArrayImageSpace = np.fft.fftshift(np.fft.fft2(np.fft.fftshift(calDataArray, axes=(1,2)), axes=(1,2)), axes=(1,2))\n",
    "# rawMRutils.computeAndPlot(calDataArrayImageSpace, quant='phase', coil=6)"
   ]
  },
  {
   "cell_type": "markdown",
   "metadata": {},
   "source": [
    "## Now - read in data from body coil."
   ]
  },
  {
   "cell_type": "code",
   "execution_count": null,
   "metadata": {},
   "outputs": [],
   "source": [
    "calDataBodyHeader, calDataBody = rawMRutils.returnHeaderAndData('./ScanArchive_20190529_090622648_converted.h5')"
   ]
  },
  {
   "cell_type": "code",
   "execution_count": null,
   "metadata": {},
   "outputs": [],
   "source": [
    "# imageSpace = np.fft.fftshift(np.fft.fft2(calDataBody, axes=(1,2)), axes=(1,2))\n",
    "calDataBodyImageSpace = np.fft.fftshift(np.fft.fft2(np.fft.fftshift(calDataBody, axes=(1,2)), axes=(1,2)), axes=(1,2))\n",
    "# rawMRutils.computeAndPlot(calDataBodyImageSpace, quant='phase')"
   ]
  },
  {
   "cell_type": "markdown",
   "metadata": {},
   "source": [
    "## Read in noise data from array coil."
   ]
  },
  {
   "cell_type": "code",
   "execution_count": null,
   "metadata": {},
   "outputs": [],
   "source": [
    "noiseDataArrayHeader, noiseDataArray = rawMRutils.returnHeaderAndData('./ScanArchive_20190529_090902358_converted.h5')"
   ]
  },
  {
   "cell_type": "markdown",
   "metadata": {},
   "source": [
    "### Create an artificially sub-sampled (accelerated) set of data from the array coil data (R = 2)"
   ]
  },
  {
   "cell_type": "code",
   "execution_count": null,
   "metadata": {},
   "outputs": [],
   "source": [
    "subSampledKSpace = np.zeros((calDataArray.shape), dtype=np.complex64)\n",
    "subSampledKSpace[:, :, ::2, :, :] = calDataArray[:, :, ::2, :, :]\n",
    "aliasedImageSpace = np.fft.fftshift(np.fft.fft2(np.fft.fftshift(subSampledKSpace, axes=(1,2)), axes=(1,2)), axes=(1,2))\n",
    "# rawMRutils.computeAndPlot(aliasedImageSpace, quant='mag', coil=-1)"
   ]
  },
  {
   "cell_type": "code",
   "execution_count": null,
   "metadata": {},
   "outputs": [],
   "source": [
    "scaledCalDataArray = np.divide (calDataArrayImageSpace, abs(calDataBodyImageSpace))"
   ]
  },
  {
   "cell_type": "code",
   "execution_count": null,
   "metadata": {},
   "outputs": [],
   "source": [
    "rawMRutils.computeAndPlot(scaledCalDataArray, quant='mag', coil=0)"
   ]
  },
  {
   "cell_type": "code",
   "execution_count": null,
   "metadata": {},
   "outputs": [],
   "source": [
    "def regularizeSensitivityMap (scaledArrayData):\n",
    "\n",
    "   '''\n",
    "      This routine should take fully sampled array coil data, already\n",
    "      scaled with either its own square root of sum of squares of the\n",
    "      individual coil images, or body coil data.\n",
    "\n",
    "      The approach below computes a cosine window over the supported\n",
    "      k-space region, converts the image data back into k-space data,\n",
    "      applies the cosine weighting, converts back into image space,\n",
    "      and is then returned.\n",
    "   '''\n",
    "\n",
    "   # First, compute cosine kernel over k-space\n",
    "   smoothingKernelData = np.zeros(scaledArrayData.shape, dtype=np.float64)\n",
    "   smoothingKernelData.shape\n",
    "\n",
    "   resX = smoothingKernelData.shape[1]\n",
    "   resY = smoothingKernelData.shape[2]\n",
    "\n",
    "   midX = resX/2\n",
    "   midY = resY/2\n",
    "\n",
    "   if (resX > resY):\n",
    "      maxRadius = resY / 2.0\n",
    "   else:\n",
    "      maxRadius = resX / 2.0\n",
    "\n",
    "   for y in range(0, resY):\n",
    "      for x in range (0, resX):\n",
    "         offX = np.double(x) - np.double (midX)\n",
    "         offY = np.double(y) - np.double (midY)\n",
    "\n",
    "         radius = np.sqrt ((offX * offX) + (offY * offY))\n",
    "\n",
    "         if (radius < maxRadius):\n",
    "            smoothingKernelData[:, x, y, :, :] = np.cos(np.pi * 0.5 * radius/maxRadius)\n",
    "         else:\n",
    "            smoothingKernelData[:, x, y, :, :] = 0.0\n",
    "\n",
    "   # computeAndPlot(smoothingKernelData)\n",
    "\n",
    "   # Convert image space sensitivity map to k-space, and apply the above\n",
    "   # computed (here - cosine) window\n",
    "   windowedKSpace = (np.fft.fftshift(np.fft.ifft2(np.fft.fftshift(scaledArrayData, axes=(1,2)), axes=(1,2)), axes=(1,2)) * smoothingKernelData)\n",
    "\n",
    "   # fft back to image space and return smoothed map\n",
    "   return np.fft.fftshift(np.fft.fft2(np.fft.fftshift(windowedKSpace, axes=(1,2)), axes=(1,2)), axes=(1,2))\n"
   ]
  },
  {
   "cell_type": "code",
   "execution_count": null,
   "metadata": {},
   "outputs": [],
   "source": [
    "windowedCalDataArrayImageSpace = regularizeSensitivityMap(scaledCalDataArray)\n",
    "rawMRutils.computeAndPlot(windowedCalDataArrayImageSpace, coil=31)"
   ]
  }
 ],
 "metadata": {
  "kernelspec": {
   "display_name": "Python 3",
   "language": "python",
   "name": "python3"
  },
  "language_info": {
   "codemirror_mode": {
    "name": "ipython",
    "version": 3
   },
   "file_extension": ".py",
   "mimetype": "text/x-python",
   "name": "python",
   "nbconvert_exporter": "python",
   "pygments_lexer": "ipython3",
   "version": "3.7.3"
  }
 },
 "nbformat": 4,
 "nbformat_minor": 2
}
