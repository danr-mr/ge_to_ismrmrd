{
 "cells": [
  {
   "cell_type": "code",
   "execution_count": null,
   "metadata": {},
   "outputs": [],
   "source": [
    "import   os\n",
    "import   sys\n",
    "sys.path.insert(0, os.path.abspath('.'))\n",
    "from     ismrmrdUtils   import   rawMRutils\n",
    "import   numpy          as       np\n",
    "from     matplotlib     import   pyplot as plt\n",
    "import   math"
   ]
  },
  {
   "cell_type": "code",
   "execution_count": null,
   "metadata": {},
   "outputs": [],
   "source": [
    "def regularizeSensitivityMap (scaledArrayData):\n",
    "\n",
    "   '''\n",
    "      This routine should take fully sampled array coil data, already\n",
    "      scaled with either its own square root of sum of squares of the\n",
    "      individual coil images, or body coil data.\n",
    "\n",
    "      The approach below computes a cosine window over the supported\n",
    "      k-space region, converts the image data back into k-space data,\n",
    "      applies the cosine weighting, converts back into image space,\n",
    "      and is then returned.\n",
    "   '''\n",
    "\n",
    "   # First, compute cosine kernel over k-space\n",
    "   smoothingKernelData = np.zeros(scaledArrayData.shape, dtype=np.float64)\n",
    "   # smoothingKernelData.shape\n",
    "\n",
    "   resX = smoothingKernelData.shape[0]\n",
    "   resY = smoothingKernelData.shape[1]\n",
    "\n",
    "   midX = resX/2\n",
    "   midY = resY/2\n",
    "\n",
    "   maxRadius = min (midX, midY) * 0.5\n",
    "\n",
    "   for y in range(0, resY):\n",
    "      for x in range (0, resX):\n",
    "         offX = np.double(x) - np.double (midX)\n",
    "         offY = np.double(y) - np.double (midY)\n",
    "\n",
    "         radius = np.sqrt ((offX * offX) + (offY * offY))\n",
    "\n",
    "         if (radius < maxRadius):\n",
    "            # Hann window\n",
    "            # smoothingKernelData[x, y] = 0.5 - (0.5 * np.cos(np.pi * 2.0 * radius/maxRadius))\n",
    "            # Simple cosine window\n",
    "            smoothingKernelData[x, y] = 0.5 + 0.5 * np.cos(np.pi * 1.0 * radius/maxRadius)\n",
    "         else:\n",
    "            smoothingKernelData[x, y] = 0.0\n",
    "\n",
    "   # computeAndPlot(smoothingKernelData)\n",
    "\n",
    "   # Convert image space sensitivity map to k-space, and apply the above\n",
    "   # computed (here - cosine) window\n",
    "   kspaceData = np.fft.fftshift(np.fft.ifft2(np.fft.fftshift(scaledArrayData, axes=(0,1)), axes=(0,1)), axes=(0,1))\n",
    "\n",
    "   windowedKSpace = np.multiply (smoothingKernelData, kspaceData)\n",
    "\n",
    "   # fft back to image space and return smoothed map\n",
    "   return np.fft.fftshift(np.fft.fft2(np.fft.fftshift(windowedKSpace, axes=(0,1)), axes=(0,1)), axes=(0,1))\n"
   ]
  },
  {
   "cell_type": "markdown",
   "metadata": {},
   "source": [
    "## First - read in (fully sampled) calibration data from array coil"
   ]
  },
  {
   "cell_type": "code",
   "execution_count": null,
   "metadata": {},
   "outputs": [],
   "source": [
    "# Put data reads from disk in their own cells as these don't need to be repeated\n",
    "calDataArrayHeader, calDataArray = rawMRutils.returnHeaderAndData('./ScanArchive_20190529_090502374_converted.h5')"
   ]
  },
  {
   "cell_type": "code",
   "execution_count": null,
   "metadata": {},
   "outputs": [],
   "source": [
    "calDataArrayImageSpace = np.fft.fftshift(np.fft.fft2(np.fft.fftshift(calDataArray, axes=(1,2)), axes=(1,2)), axes=(1,2))\n",
    "# rawMRutils.computeAndPlot(calDataArrayImageSpace, quant='phase', coil=6)"
   ]
  },
  {
   "cell_type": "markdown",
   "metadata": {},
   "source": [
    "## Now - read in data from body coil."
   ]
  },
  {
   "cell_type": "code",
   "execution_count": null,
   "metadata": {},
   "outputs": [],
   "source": [
    "calDataBodyHeader, calDataBody = rawMRutils.returnHeaderAndData('./ScanArchive_20190529_090622648_converted.h5')"
   ]
  },
  {
   "cell_type": "code",
   "execution_count": null,
   "metadata": {},
   "outputs": [],
   "source": [
    "# imageSpace = np.fft.fftshift(np.fft.fft2(calDataBody, axes=(1,2)), axes=(1,2))\n",
    "calDataBodyImageSpace = np.fft.fftshift(np.fft.fft2(np.fft.fftshift(calDataBody, axes=(1,2)), axes=(1,2)), axes=(1,2))\n",
    "# rawMRutils.computeAndPlot(calDataBodyImageSpace, quant='phase')"
   ]
  },
  {
   "cell_type": "markdown",
   "metadata": {},
   "source": [
    "## Read in noise data from array coil."
   ]
  },
  {
   "cell_type": "code",
   "execution_count": null,
   "metadata": {},
   "outputs": [],
   "source": [
    "noiseDataArrayHeader, noiseDataArray = rawMRutils.returnHeaderAndData('./ScanArchive_20190529_090902358_converted.h5')"
   ]
  },
  {
   "cell_type": "code",
   "execution_count": null,
   "metadata": {},
   "outputs": [],
   "source": [
    "# noise data is from array coil, so *is* multi-coil by its very nature.  The coil dimension should be the very first\n",
    "# dimension in the data array returned by 'rawMRutils.returnHeaderAndData'.\n",
    "nCoils = np.shape(noiseDataArray)[0]\n",
    "# Want to keep the coil dimension, but collapse across all others (hence, the '-1' below) to compute noise covariance\n",
    "# matrix (i.e. psi, in Pruessmann paper - https://doi.org/10.1002/(SICI)1522-2594(199911)42:5<952::AID-MRM16>3.0.CO;2-S)\n",
    "# between coils.\n",
    "reshapedNoiseData = np.reshape(noiseDataArray, [nCoils, -1])\n",
    "# np.shape(reshapedNoiseData)\n",
    "noiseCov = np.cov(reshapedNoiseData)\n",
    "# plt.imshow (np.sqrt(np.abs(noiseCov)))"
   ]
  },
  {
   "cell_type": "markdown",
   "metadata": {},
   "source": [
    "### For unfolding matrix computation, need the inverse of the covariance matrix, i.e. $\\psi$<sup>-1</sup>"
   ]
  },
  {
   "cell_type": "code",
   "execution_count": null,
   "metadata": {},
   "outputs": [],
   "source": [
    "psiInv = np.linalg.inv(noiseCov)\n",
    "plt.imshow (np.sqrt(np.abs(psiInv)))"
   ]
  },
  {
   "cell_type": "markdown",
   "metadata": {},
   "source": [
    "### Get / set some useful data dimensions"
   ]
  },
  {
   "cell_type": "code",
   "execution_count": null,
   "metadata": {},
   "outputs": [],
   "source": [
    "imageRows    = int(np.ceil(np.sqrt(nCoils)))\n",
    "imageCols    = imageRows\n",
    "\n",
    "dimRead      = np.shape(calDataArrayImageSpace)[1]\n",
    "dimPhase     = np.shape(calDataArrayImageSpace)[2]\n",
    "dimSlice     = np.shape(calDataArrayImageSpace)[3]\n",
    "R            = 3   # reduction / acceleration factor\n",
    "accelStride  = int(dimPhase/R)"
   ]
  },
  {
   "cell_type": "code",
   "execution_count": null,
   "metadata": {},
   "outputs": [],
   "source": [
    "plottedCoilsNormalizedWithBody = plt.figure(figsize=(18,18))\n",
    "\n",
    "bodyCoilMag = np.zeros(calDataBodyImageSpace.shape[:-1], dtype=float)\n",
    "\n",
    "for z in range(dimSlice):\n",
    "   bodyCoilMag[0, :, :, z] = np.abs(regularizeSensitivityMap(calDataBodyImageSpace[0,:,:,z,0]))\n",
    "\n",
    "bodyCoilMax      = np.max(bodyCoilMag)\n",
    "sensitivityImage = np.zeros(calDataArray.shape[:-1], dtype=complex)\n",
    "\n",
    "for c in range (nCoils):\n",
    "   for z in range (dimSlice):\n",
    "      subImages = plottedCoilsNormalizedWithBody.add_subplot(imageRows, imageCols, c + 1)\n",
    "      sensitivityImage[c,:,:,z] = (regularizeSensitivityMap(calDataArrayImageSpace[c,:,:,z,0] / bodyCoilMag[0,:,:,z]))\n",
    "      tmp = np.abs(sensitivityImage[c,:,:,z])\n",
    "\n",
    "      # This flattens all of the coil data into a single dimension, then sorts it\n",
    "      tmpSorted = np.sort(tmp.flatten())\n",
    "\n",
    "      sizeTmp = tmpSorted.size\n",
    "\n",
    "      # subImages.imshow(tmp)\n",
    "\n",
    "      # Then we take the 10th and 90th percentiles for displaying.  Without these, the sensitivity\n",
    "      # profiles could not be seen with the default scaling.\n",
    "      minTmp = tmpSorted[int(sizeTmp * 0.10)]\n",
    "      maxTmp = tmpSorted[int(sizeTmp * 0.90)]\n",
    "\n",
    "      # Threshold sensitivity map with (arbitrarily here - 25% of maximum intensity from body coil image)\n",
    "      tmp[np.where (bodyCoilMag[0,:,:,z] < (0.25 * bodyCoilMax))] = 0\n",
    "\n",
    "      if (z == 0):\n",
    "         subImages.imshow(np.clip(tmp, minTmp, maxTmp))"
   ]
  },
  {
   "cell_type": "markdown",
   "metadata": {},
   "source": [
    "### Create an artificially sub-sampled (accelerated) set of data from the array coil data (R specifed above)"
   ]
  },
  {
   "cell_type": "code",
   "execution_count": null,
   "metadata": {},
   "outputs": [],
   "source": [
    "subSampledKSpace = np.zeros((calDataArray.shape), dtype=np.complex64)\n",
    "subSampledKSpace[:, :, ::R, :, :] = calDataArray[:, :, ::R, :, :]\n",
    "aliasedImageSpace = np.fft.fftshift(np.fft.fft2(np.fft.fftshift(subSampledKSpace, axes=(1,2)), axes=(1,2)), axes=(1,2))\n",
    "# for i in range (nCoils):\n",
    "#    rawMRutils.computeAndPlot(aliasedImageSpace, quant='mag', coil=i)\n",
    "rawMRutils.computeAndPlot(aliasedImageSpace, quant='mag', coil=-1)"
   ]
  },
  {
   "cell_type": "code",
   "execution_count": null,
   "metadata": {},
   "outputs": [],
   "source": [
    "# Template SENSE recon in Matlab available at: https://users.fmrib.ox.ac.uk/~mchiew/docs/SENSE_tutorial.html\n",
    "\n",
    "unfoldedImage = np.zeros(calDataArray.shape, dtype=np.complex64)\n",
    "\n",
    "for t in range (aliasedImageSpace.shape[-1]):\n",
    "   for z in range (dimSlice):\n",
    "      # loop over the top-half of the image\n",
    "      for y in range (accelStride):\n",
    "         # loop over the entire left-right extent\n",
    "         for x in range (dimRead):\n",
    "            # pick out the sub-problem sensitivities\n",
    "            sVector = sensitivityImage[:, x, y:(y + (R*accelStride)):accelStride, z]\n",
    "            # solve the sub-problem in the least-squares sense.  'unFoldedElement' should have R elements\n",
    "            # - representing the number of pixels separated/unfolded from any given pixel in the aliased\n",
    "            # image, to their 'correct' positions in the unaliased image.\n",
    "            unFoldedElement = np.dot(np.linalg.pinv(sVector), (aliasedImageSpace[:, x, y, z, t]))\n",
    "\n",
    "            # for r in range(R):\n",
    "               # unfoldedImage [0, x, y + r * accelStride, z, t] = unFoldedElement[r]\n",
    "\n",
    "               # Just as a contrast, to show the unfolding works\n",
    "               # unfoldedImage [:, x, y + r * accelStride, z, t] = aliasedImageSpace[:, x, y + r * accelStride, z, t]\n",
    "\n",
    "            # Instead of above loop, utilize Python's list expansion\n",
    "            unfoldedImage [0, x, y:(y + (R * accelStride)):accelStride, z, t] = unFoldedElement\n",
    "            # Just as a contrast, to show the unfolding works\n",
    "            # unfoldedImage [:, x, y:(y + (R * accelStride)):accelStride, z, t] = aliasedImageSpace[:, x, y:(y + (R * accelStride)):accelStride, z, t]"
   ]
  },
  {
   "cell_type": "code",
   "execution_count": null,
   "metadata": {
    "scrolled": true
   },
   "outputs": [],
   "source": [
    "rawMRutils.computeAndPlot(unfoldedImage, quant='mag', coil=-1)"
   ]
  },
  {
   "cell_type": "markdown",
   "metadata": {},
   "source": [
    "### Now, comupte unfolding matrix ($U$), a la Pruessmann (doi: https://doi.org/10.1002/(SICI)1522-2594(199911)42:5%3C952::AID-MRM16%3E3.0.CO;2-S), equation 2:\n",
    "\n",
    "### $U$ = (S<sup>H</sup>$\\psi$<sup>-1</sup>S)<sup>-1</sup>S<sup>H</sup>$\\psi$<sup>-1</sup>\n",
    "\n",
    "Matrix multiplication should happen from right-most terms, moving to left ..."
   ]
  },
  {
   "cell_type": "code",
   "execution_count": null,
   "metadata": {},
   "outputs": [],
   "source": [
    "# Create space for sensitivity matrix - should match with the volume being unfolded, so ignore time (last) dimension\n",
    "# - i.e. [:-1]\n",
    "uMatrix = np.zeros(aliasedImageSpace.shape[:-1], dtype=np.complex64)\n",
    "\n",
    "for z in range (dimSlice):\n",
    "   # loop over the 'accelStride' portion of the image\n",
    "   for y in range (accelStride):\n",
    "      for x in range (dimRead):\n",
    "         # Now, take sensitivities by stacking pixels that would be super-imposed, when going from full FOV, to\n",
    "         # reduced FOV, when accelerating (i.e. skipping k-space lines, i.e. reducing FOV in image space)\n",
    "         sVector = sensitivityImage[:, x, y:(y + (R*accelStride)):accelStride, z]\n",
    "         # now, construst U-matrix, a la Pruessmann\n",
    "         sHermitian = np.transpose(np.conjugate(sVector))\n",
    "         unFoldedElement = np.dot(np.linalg.inv(np.dot(sHermitian, np.dot(psiInv, sVector))),(np.dot(sHermitian, psiInv)))\n",
    "\n",
    "         # fill in unfolding matrix\n",
    "         # for r in range(R):\n",
    "            # uMatrix[:, x, y + r * accelStride, z] = unFoldedElement[r]\n",
    "\n",
    "         # Instead of above loop, utilize Python's list expansion\n",
    "         uMatrix[:, x, y:(y + (R * accelStride)):accelStride , z] = np.transpose(unFoldedElement)"
   ]
  },
  {
   "cell_type": "code",
   "execution_count": null,
   "metadata": {},
   "outputs": [],
   "source": [
    "# Now, apply unfolding matrix to aliased data - and results should be unfolded images.\n",
    "\n",
    "unfoldedImageSpace = np.zeros((calDataArray.shape), dtype=np.complex64)\n",
    "\n",
    "for t in range (aliasedImageSpace.shape[-1]):\n",
    "   for z in range (dimSlice):\n",
    "      # loop over the top-half of the image\n",
    "      for y in range (dimPhase):\n",
    "         # loop over the entire left-right extent\n",
    "         for x in range (dimRead):\n",
    "            unfoldedImageSpace[:, x, y, z, t] = np.dot(uMatrix[:,x, y, z], (aliasedImageSpace[:, x, y, z, t]))"
   ]
  },
  {
   "cell_type": "code",
   "execution_count": null,
   "metadata": {},
   "outputs": [],
   "source": [
    "rawMRutils.computeAndPlot(unfoldedImageSpace, quant='mag', coil=-1)"
   ]
  }
 ],
 "metadata": {
  "kernelspec": {
   "display_name": "Python 3",
   "language": "python",
   "name": "python3"
  },
  "language_info": {
   "codemirror_mode": {
    "name": "ipython",
    "version": 3
   },
   "file_extension": ".py",
   "mimetype": "text/x-python",
   "name": "python",
   "nbconvert_exporter": "python",
   "pygments_lexer": "ipython3",
   "version": "3.7.3"
  }
 },
 "nbformat": 4,
 "nbformat_minor": 2
}
