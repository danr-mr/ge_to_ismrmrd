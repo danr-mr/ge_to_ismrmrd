{
 "cells": [
  {
   "cell_type": "code",
   "execution_count": null,
   "metadata": {},
   "outputs": [],
   "source": [
    "import numpy      as    np\n",
    "import h5py       as    h5\n",
    "import ismrmrd    as    mrd\n",
    "import ismrmrd.xsd\n",
    "from   matplotlib import   pyplot as plt\n",
    "# import seaborn    as    sns"
   ]
  },
  {
   "cell_type": "code",
   "execution_count": null,
   "metadata": {},
   "outputs": [],
   "source": [
    "def returnHeaderAndData (h5RawFilePath, dataElement='/dataset'):\n",
    "\n",
    "   rawDataArray = mrd.Dataset(h5RawFilePath, dataElement, True)\n",
    "   rawDataArrayHeader = ismrmrd.xsd.CreateFromDocument(rawDataArray.read_xml_header())\n",
    "\n",
    "   enc = rawDataArrayHeader.encoding[0]\n",
    "\n",
    "   # Matrix size\n",
    "   eNx = enc.encodedSpace.matrixSize.x\n",
    "   eNy = enc.encodedSpace.matrixSize.y\n",
    "   # eNz = enc.encodedSpace.matrixSize.z\n",
    "\n",
    "   if enc.encodingLimits.slice != None:\n",
    "      eNz = enc.encodingLimits.slice.maximum + 1\n",
    "   else:\n",
    "      eNz = 1\n",
    "\n",
    "   if enc.encodingLimits.repetition != None:\n",
    "      eNt = enc.encodingLimits.repetition.maximum + 1\n",
    "   else:\n",
    "      eNt = 1\n",
    "\n",
    "   # This will pack k-space data into a numpy array with the following\n",
    "   # data order / shape:\n",
    "   #\n",
    "   #    [coil, readout, phase_encode_1, phase_encode_2 or slice, time]\n",
    "   #\n",
    "   # This ordering may not be suitable for all, or even a majority of\n",
    "   # applications.  But since this is a demonstration notebook, it\n",
    "   # seemed to be a 'natural' way to unpack and organize the data from\n",
    "   # the ISMRMRD raw file.\n",
    "\n",
    "   allKspace = np.zeros((rawDataArray.read_acquisition(0).data.shape[0],\n",
    "                         rawDataArray.read_acquisition(0).data.shape[1],\n",
    "                         eNy, eNz, eNt), dtype=np.complex64)\n",
    "\n",
    "   for i in range(rawDataArray.number_of_acquisitions()):\n",
    "      thisAcq = rawDataArray.read_acquisition(i)\n",
    "      allKspace[:, :, thisAcq.idx.kspace_encode_step_1, thisAcq.idx.slice, thisAcq.idx.contrast] = thisAcq.data\n",
    "\n",
    "   return rawDataArrayHeader, allKspace\n"
   ]
  },
  {
   "cell_type": "code",
   "execution_count": null,
   "metadata": {},
   "outputs": [],
   "source": [
    "def computeAndPlot (array2Plot, quant='magnitude'):\n",
    "\n",
    "   # from comment above, index 3 is the slice slot\n",
    "   # while index 4 is repetition / contrast. \n",
    "   slices2Plot = array2Plot.shape[3]\n",
    "   times2Plot  = array2Plot.shape[4]\n",
    "\n",
    "   # print (\"slices:   \", slices2Plot)\n",
    "   # print (\"time pts: \", times2Plot)\n",
    "\n",
    "   imageCols = int(np.ceil(np.sqrt(slices2Plot)))\n",
    "   imageRows = int(np.ceil(np.sqrt(slices2Plot))) * times2Plot\n",
    "\n",
    "   plottedFigures = plt.figure(figsize=(12,18))\n",
    "\n",
    "   for t in range(times2Plot):\n",
    "      for s in range(slices2Plot):\n",
    "         subImages = plottedFigures.add_subplot(imageRows, imageCols, ((t * imageRows * imageCols / times2Plot) + s + 1))\n",
    "\n",
    "         if ((quant == 'angle') or (quant == 'phase')):\n",
    "            reconnedImage = np.sum(np.angle(array2Plot[:, :, :, s, t]), axis=0)\n",
    "         else:\n",
    "            reconnedImage = np.sqrt(np.sum((abs(array2Plot[:, :, :, s, t])), axis=0))\n",
    "\n",
    "         subImages.imshow(reconnedImage)\n"
   ]
  },
  {
   "cell_type": "markdown",
   "metadata": {},
   "source": [
    "## First - read in (fully sampled) calibration data from array coil"
   ]
  },
  {
   "cell_type": "code",
   "execution_count": null,
   "metadata": {},
   "outputs": [],
   "source": [
    "calDataArrayHeader, calDataArray = returnHeaderAndData('./ScanArchive_20190529_090502374_converted.h5')"
   ]
  },
  {
   "cell_type": "code",
   "execution_count": null,
   "metadata": {},
   "outputs": [],
   "source": [
    "imageSpace = np.fft.fftshift(np.fft.fft2(calDataArray, axes=(1,2)), axes=(1,2))"
   ]
  },
  {
   "cell_type": "code",
   "execution_count": null,
   "metadata": {},
   "outputs": [],
   "source": [
    "computeAndPlot(imageSpace)"
   ]
  },
  {
   "cell_type": "markdown",
   "metadata": {},
   "source": [
    "## Now - read in data from body coil.  Not absolutely necessary - but might be useful"
   ]
  },
  {
   "cell_type": "code",
   "execution_count": null,
   "metadata": {},
   "outputs": [],
   "source": [
    "calDataBodyHeader, calDataBody = returnHeaderAndData('./ScanArchive_20190529_090622648_converted.h5')"
   ]
  },
  {
   "cell_type": "code",
   "execution_count": null,
   "metadata": {},
   "outputs": [],
   "source": [
    "imageSpace = np.fft.fftshift(np.fft.fft2(calDataBody, axes=(1,2)), axes=(1,2))"
   ]
  },
  {
   "cell_type": "code",
   "execution_count": null,
   "metadata": {
    "scrolled": true
   },
   "outputs": [],
   "source": [
    "computeAndPlot(imageSpace)"
   ]
  },
  {
   "cell_type": "code",
   "execution_count": null,
   "metadata": {},
   "outputs": [],
   "source": [
    "imageSpace = np.fft.fftshift(np.fft.fft2(np.fft.fftshift(calDataBody, axes=(1,2)), axes=(1,2)), axes=(1,2))"
   ]
  },
  {
   "cell_type": "code",
   "execution_count": null,
   "metadata": {},
   "outputs": [],
   "source": [
    "computeAndPlot(imageSpace, quant='phase')"
   ]
  },
  {
   "cell_type": "markdown",
   "metadata": {},
   "source": [
    "## Read in noise data from array coil.  No need to reconstruct, but just as a sanity check."
   ]
  },
  {
   "cell_type": "code",
   "execution_count": null,
   "metadata": {},
   "outputs": [],
   "source": [
    "noiseDataArrayHeader, noiseDataArray = returnHeaderAndData('./ScanArchive_20190529_090902358_converted.h5')"
   ]
  },
  {
   "cell_type": "code",
   "execution_count": null,
   "metadata": {},
   "outputs": [],
   "source": [
    "imageSpace = np.fft.fftshift(np.fft.fft2(noiseDataArray, axes=(1,2)), axes=(1,2))"
   ]
  },
  {
   "cell_type": "code",
   "execution_count": null,
   "metadata": {},
   "outputs": [],
   "source": [
    "computeAndPlot(imageSpace)"
   ]
  },
  {
   "cell_type": "code",
   "execution_count": null,
   "metadata": {},
   "outputs": [],
   "source": [
    "enc = noiseDataArrayHeader.encoding[0]\n",
    "\n",
    "rNx = enc.reconSpace.matrixSize.x\n",
    "rNy = enc.reconSpace.matrixSize.y\n",
    "rNz = enc.reconSpace.matrixSize.z"
   ]
  },
  {
   "cell_type": "code",
   "execution_count": null,
   "metadata": {},
   "outputs": [],
   "source": [
    "enc"
   ]
  },
  {
   "cell_type": "code",
   "execution_count": null,
   "metadata": {},
   "outputs": [],
   "source": [
    "rNx, rNy, rNz"
   ]
  },
  {
   "cell_type": "markdown",
   "metadata": {},
   "source": [
    "### Create an artificially sub-sampled (accelerated) set of data from the array coil data (R = 2)"
   ]
  },
  {
   "cell_type": "code",
   "execution_count": null,
   "metadata": {},
   "outputs": [],
   "source": [
    "subSampledKSpace = np.zeros((calDataArray.shape), dtype=np.complex64)\n",
    "\n",
    "# subSampledKSpace = calDataArray[:, :, ::2, :, :]\n",
    "subSampledKSpace[:, :, ::2, :, :] = calDataArray[:, :, ::2, :, :]"
   ]
  },
  {
   "cell_type": "code",
   "execution_count": null,
   "metadata": {},
   "outputs": [],
   "source": [
    "computeAndPlot(subSampledKSpace)"
   ]
  },
  {
   "cell_type": "code",
   "execution_count": null,
   "metadata": {},
   "outputs": [],
   "source": [
    "imageSpace = np.fft.fftshift(np.fft.fft2(subSampledKSpace, axes=(1,2)), axes=(1,2))"
   ]
  },
  {
   "cell_type": "code",
   "execution_count": null,
   "metadata": {},
   "outputs": [],
   "source": [
    "computeAndPlot(imageSpace)"
   ]
  }
 ],
 "metadata": {
  "kernelspec": {
   "display_name": "Python 3",
   "language": "python",
   "name": "python3"
  },
  "language_info": {
   "codemirror_mode": {
    "name": "ipython",
    "version": 3
   },
   "file_extension": ".py",
   "mimetype": "text/x-python",
   "name": "python",
   "nbconvert_exporter": "python",
   "pygments_lexer": "ipython3",
   "version": "3.7.3"
  }
 },
 "nbformat": 4,
 "nbformat_minor": 2
}
